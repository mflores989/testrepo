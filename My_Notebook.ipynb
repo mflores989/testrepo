{
  "metadata": {
    "language_info": {
      "codemirror_mode": {
        "name": "python",
        "version": 3
      },
      "file_extension": ".py",
      "mimetype": "text/x-python",
      "name": "python",
      "nbconvert_exporter": "python",
      "pygments_lexer": "ipython3",
      "version": "3.8"
    },
    "kernelspec": {
      "name": "python",
      "display_name": "Pyolite",
      "language": "python"
    }
  },
  "nbformat_minor": 4,
  "nbformat": 4,
  "cells": [
    {
      "cell_type": "markdown",
      "source": "print(1+1) My Title",
      "metadata": {}
    },
    {
      "cell_type": "code",
      "source": "name = 'Maria'\nprint('My name is ' + name)",
      "metadata": {
        "tags": []
      },
      "execution_count": null,
      "outputs": []
    }
  ]
}